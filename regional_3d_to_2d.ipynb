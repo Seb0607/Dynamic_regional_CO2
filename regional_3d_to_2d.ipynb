{
 "cells": [
  {
   "cell_type": "markdown",
   "metadata": {},
   "source": [
    "## Territorial CO$_2$ emissions"
   ]
  },
  {
   "cell_type": "markdown",
   "metadata": {},
   "source": [
    "<br> Plot shows the estimated income-emissions relationship based on the regional specification of the dynamic model proposed by Bennedsen, Hillebrand and Jensen (2021)."
   ]
  },
  {
   "cell_type": "code",
   "execution_count": 17,
   "metadata": {},
   "outputs": [],
   "source": [
    "# Importing libraries\n",
    "import numpy as np\n",
    "import matplotlib.pyplot as plt\n",
    "import seaborn as sns; sns.set_style('darkgrid')\n",
    "import pickle\n",
    "\n",
    "from ipywidgets import interact\n",
    "import ipywidgets as widgets"
   ]
  },
  {
   "cell_type": "code",
   "execution_count": 18,
   "metadata": {},
   "outputs": [],
   "source": [
    "# Loading data\n",
    "infile = open('Data/ax1','rb')\n",
    "ax1 = pickle.load(infile)\n",
    "infile.close()\n",
    "\n",
    "infile = open('Data/ax2','rb')\n",
    "ax2 = pickle.load(infile)\n",
    "infile.close()\n",
    "\n",
    "infile = open('Data/ax3','rb')\n",
    "ax3 = pickle.load(infile)\n",
    "infile.close()\n",
    "\n",
    "infile = open('Data/pred_surf','rb')\n",
    "pred_surf = pickle.load(infile)\n",
    "infile.close()\n",
    "\n",
    "infile = open('Data/quant05','rb')\n",
    "quant05 = pickle.load(infile)\n",
    "infile.close()\n",
    "\n",
    "infile = open('Data/quant95','rb')\n",
    "quant95 = pickle.load(infile)\n",
    "infile.close()"
   ]
  },
  {
   "cell_type": "code",
   "execution_count": 29,
   "metadata": {},
   "outputs": [
    {
     "data": {
      "application/vnd.jupyter.widget-view+json": {
       "model_id": "e534c50dc76b4a2d82df2bf4817f493e",
       "version_major": 2,
       "version_minor": 0
      },
      "text/plain": [
       "interactive(children=(IntSlider(value=2018, description='year', max=2018, min=1960), Dropdown(description='reg…"
      ]
     },
     "metadata": {},
     "output_type": "display_data"
    }
   ],
   "source": [
    "def plot(year, region):\n",
    "    if region == 'REF':\n",
    "        year_adj = year - 1987\n",
    "        \n",
    "    else:\n",
    "        year_adj = year - 1960\n",
    "    \n",
    "    if region == 'REF' and year < 1987:\n",
    "        plt.plot()\n",
    "        plt.xlabel('log(GDP)')\n",
    "        plt.ylabel('log(CO$_2$)')\n",
    "        plt.show()\n",
    "    \n",
    "    else:\n",
    "        plt.plot(ax2[region][:, year_adj], pred_surf[region][:, year_adj], color='black')\n",
    "        plt.xlabel('log(GDP)')\n",
    "        plt.ylabel('log(CO$_2$)')\n",
    "        plt.axvspan(quant05[region][year], quant95[region][year], facecolor='black', alpha=0.1, label='.05/.95 quantile')\n",
    "        plt.legend(bbox_to_anchor=(1.04,1), borderaxespad=0)    \n",
    "        plt.show()\n",
    "    \n",
    "interact(plot, year=widgets.IntSlider(min=1960, max=2018, step=1, value=2018), region=widgets.Dropdown(\n",
    "    options=[('OECD90 and EU member states and candidates (OECD)', 'OECD'), \n",
    "             ('Reforming economies of Eastern Europe and the Former Soviet Union (REF)', 'REF'), \n",
    "             ('Asia excluding the Middle East, Japan and Former Soviet Union states (Asia)', 'Asia'),\n",
    "             ('Middle East and Africa (MAF)', 'MAF'), \n",
    "             ('Latin America and the Caribbean (LAM)', 'LAM')], value='OECD'));"
   ]
  },
  {
   "cell_type": "markdown",
   "metadata": {},
   "source": [
    "Note: Shaded area represent region og highest confidence. Income is measured by the natural logarithm of per capita GDP in billions of 2005 USD (PPP). <br> CO$_2$ emissions are measured by the natural logarithm of per capita CO$_2$ emissions in millions of tonnes."
   ]
  }
 ],
 "metadata": {
  "kernelspec": {
   "display_name": "Python 3",
   "language": "python",
   "name": "python3"
  },
  "language_info": {
   "codemirror_mode": {
    "name": "ipython",
    "version": 3
   },
   "file_extension": ".py",
   "mimetype": "text/x-python",
   "name": "python",
   "nbconvert_exporter": "python",
   "pygments_lexer": "ipython3",
   "version": "3.6.10"
  }
 },
 "nbformat": 4,
 "nbformat_minor": 2
}
